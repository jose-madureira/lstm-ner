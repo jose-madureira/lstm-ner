{
  "cells": [
    {
      "cell_type": "markdown",
      "metadata": {
        "id": "intro"
      },
      "source": [
        "# Reconhecimento de Entidades Nomeadas com LSTM\n",
        "\n"
      ]
    },
    {
      "cell_type": "markdown",
      "metadata": {
        "id": "libs-install-md"
      },
      "source": [
        "### 1. Instalação e Importação de Bibliotecas"
      ]
    },
    {
      "cell_type": "code",
      "execution_count": null,
      "metadata": {
        "id": "8Wxm5YvYapza"
      },
      "outputs": [],
      "source": [
        "# Instalação das bibliotecas necessárias\n",
        "# %%capture evita que as saídas da instalação poluam o notebook, mantendo-o limpo.\n",
        "%%capture\n",
        "%pip install numpy pandas tensorflow scikit-learn"
      ]
    },
    {
      "cell_type": "code",
      "execution_count": null,
      "metadata": {
        "id": "libs-import-code"
      },
      "outputs": [],
      "source": [
        "# Importação das bibliotecas\n",
        "import numpy as np\n",
        "import pandas as pd\n",
        "import tensorflow as tf\n",
        "from tensorflow.keras.models import Sequential\n",
        "from tensorflow.keras.layers import Embedding, LSTM, Dense, TimeDistributed, Dropout, Bidirectional\n",
        "from tensorflow.keras.preprocessing.sequence import pad_sequences\n",
        "from tensorflow.keras.utils import to_categorical\n",
        "from sklearn.model_selection import train_test_split"
      ]
    },
    {
      "cell_type": "markdown",
      "metadata": {
        "id": "data-overview-md"
      },
      "source": [
        "### 2. Carregamento e Leitura do Dataset"
      ]
    },
    {
      "cell_type": "code",
      "execution_count": null,
      "metadata": {
        "id": "data-load-code"
      },
      "outputs": [],
      "source": [
        "# Carrega o dataset a partir de um arquivo CSV.\n",
        "dados_brutos = pd.read_csv(\"data/ner_dataset.csv\", encoding=\"latin1\").ffill()\n",
        "# Dataset utilizado: GMB (Groningen Meaning Bank)\n",
        "# Fonte: Kaggle - https://www.kaggle.com/datasets/abhinavwalia95/entity-annotated-corpus"
      ]
    },
    {
      "cell_type": "markdown",
      "metadata": {
        "id": "data-prep-md"
      },
      "source": [
        "### 3. Pré-processamento dos Dados"
      ]
    },
    {
      "cell_type": "code",
      "source": [
        "# Agrupamento das palavras por sentença\n",
        "sentencas = []\n",
        "sentenca_atual = []\n",
        "for _, linha in dados_brutos.iterrows():\n",
        "    palavra, etiqueta = linha[\"Word\"], linha[\"Tag\"]\n",
        "    if palavra == \".\":\n",
        "        sentenca_atual.append((palavra, etiqueta))\n",
        "        sentencas.append(sentenca_atual)\n",
        "        sentenca_atual = []\n",
        "    else:\n",
        "        sentenca_atual.append((palavra, etiqueta))"
      ],
      "metadata": {
        "id": "c0uD3wcrJYPv"
      },
      "execution_count": null,
      "outputs": []
    },
    {
      "cell_type": "markdown",
      "source": [
        "### 4. Criação dos Vocabulários"
      ],
      "metadata": {
        "id": "91curHZVJbSo"
      }
    },
    {
      "cell_type": "code",
      "source": [
        "# Criação de dicionários para conversão entre palavras/tags e seus respectivos índices\n",
        "palavras = list(set(dados_brutos[\"Word\"].values))\n",
        "palavras.append(\"PADword\")\n",
        "etiquetas = list(set(dados_brutos[\"Tag\"].values))\n",
        "\n",
        "mapa_palavra_para_indice = {w: i + 1 for i, w in enumerate(palavras)}\n",
        "mapa_indice_para_palavra = {i + 1: w for i, w in enumerate(palavras)}\n",
        "\n",
        "mapa_tag_para_indice = {t: i for i, t in enumerate(etiquetas)}\n",
        "mapa_indice_para_tag = {i: t for t, i in mapa_tag_para_indice.items()}"
      ],
      "metadata": {
        "id": "DlAVnZpEJfjB"
      },
      "execution_count": null,
      "outputs": []
    },
    {
      "cell_type": "markdown",
      "source": [
        "### 5. Preparação das Sequências para Treinamento"
      ],
      "metadata": {
        "id": "twcXDvZjJooA"
      }
    },
    {
      "cell_type": "code",
      "source": [
        "# Transformação das sentenças e etiquetas em sequências de índices\n",
        "max_len = 50\n",
        "\n",
        "X = [[mapa_palavra_para_indice[palavra] for palavra, etiqueta in s] for s in sentencas]\n",
        "X = pad_sequences(maxlen=max_len, sequences=X, padding=\"post\", value=mapa_palavra_para_indice[\"PADword\"])\n",
        "\n",
        "y = [[mapa_tag_para_indice[etiqueta] for palavra, etiqueta in s] for s in sentencas]\n",
        "y = pad_sequences(maxlen=max_len, sequences=y, padding=\"post\", value=mapa_tag_para_indice[\"O\"])\n",
        "y = [to_categorical(i, num_classes=len(etiquetas)) for i in y]\n"
      ],
      "metadata": {
        "id": "vNwh56zTJrcs"
      },
      "execution_count": null,
      "outputs": []
    },
    {
      "cell_type": "markdown",
      "source": [
        "### 6. Separação dos Dados em Treinamento e Teste"
      ],
      "metadata": {
        "id": "yLcnx-MFJxW_"
      }
    },
    {
      "cell_type": "code",
      "source": [
        "# Divisão dos dados em subconjuntos de treinamento e teste com 10% para teste\n",
        "X_treino, X_teste, y_treino, y_teste = train_test_split(X, y, test_size=0.1)"
      ],
      "metadata": {
        "id": "maefsqm2J3Kh"
      },
      "execution_count": null,
      "outputs": []
    },
    {
      "cell_type": "markdown",
      "source": [
        "### 7. Definição e Construção da Arquitetura do Modelo"
      ],
      "metadata": {
        "id": "lfFxG-rkJ9SQ"
      }
    },
    {
      "cell_type": "code",
      "source": [
        "# Estrutura de rede recorrente bidirecional com camada de saída TimeDistributed\n",
        "modelo = Sequential()\n",
        "modelo.add(Embedding(input_dim=len(palavras) + 1, output_dim=64))\n",
        "modelo.add(Bidirectional(LSTM(units=64, return_sequences=True, recurrent_dropout=0.1)))\n",
        "modelo.add(TimeDistributed(Dense(len(etiquetas), activation=\"softmax\")))\n",
        "\n",
        "# Compilação do modelo com otimizador Adam e função de perda categórica\n",
        "modelo.compile(optimizer=\"adam\", loss=\"categorical_crossentropy\", metrics=[\"accuracy\"])\n",
        "modelo.summary()"
      ],
      "metadata": {
        "id": "ZZFe-oUHKAqD"
      },
      "execution_count": null,
      "outputs": []
    },
    {
      "cell_type": "markdown",
      "source": [
        "### 8. Treinamento do Modelo"
      ],
      "metadata": {
        "id": "5TGK551zKEgT"
      }
    },
    {
      "cell_type": "code",
      "source": [
        "# Treinamento com 5 épocas e validação em 10% dos dados\n",
        "historico = modelo.fit(X_treino, np.array(y_treino), batch_size=32, epochs=5, validation_split=0.1, verbose=1)"
      ],
      "metadata": {
        "id": "4UMI00RqKHes"
      },
      "execution_count": null,
      "outputs": []
    },
    {
      "cell_type": "markdown",
      "source": [
        "### 9. Avaliação da Performance"
      ],
      "metadata": {
        "id": "6QCrHkd3KG-w"
      }
    },
    {
      "cell_type": "code",
      "source": [
        "# Avaliação do modelo com base no conjunto de testes\n",
        "resultado = modelo.evaluate(X_teste, np.array(y_teste))\n",
        "print(f\"Acurácia obtida no teste: {resultado[1]*100:.2f}%\")"
      ],
      "metadata": {
        "id": "Dvsj2eCKKNvE"
      },
      "execution_count": null,
      "outputs": []
    },
    {
      "cell_type": "markdown",
      "source": [
        "### 10. Testes com Predições"
      ],
      "metadata": {
        "id": "dVxSihouKScX"
      }
    },
    {
      "cell_type": "code",
      "source": [
        "# Exemplo de predição e reconstrução da sentença com suas respectivas entidades nomeadas\n",
        "indice_exemplo = 123\n",
        "predicao = modelo.predict(np.array([X_teste[indice_exemplo]]))\n",
        "predicao_indices = np.argmax(predicao, axis=-1)\n",
        "\n",
        "print(\"PALAVRA - VERDADEIRO - PREDITO\")\n",
        "for p, v in zip(X_teste[indice_exemplo], predicao_indices[0]):\n",
        "    if p != mapa_palavra_para_indice[\"PADword\"]:\n",
        "        print(f\"{mapa_indice_para_palavra[p]:15} - {mapa_indice_para_tag[np.argmax(y_teste[indice_exemplo][X_teste[indice_exemplo].tolist().index(p)])]} - {mapa_indice_para_tag[v]}\")"
      ],
      "metadata": {
        "id": "loyb2nCiKZIN"
      },
      "execution_count": null,
      "outputs": []
    }
  ],
  "metadata": {
    "colab": {
      "provenance": []
    },
    "kernelspec": {
      "display_name": "Python 3",
      "name": "python3"
    },
    "language_info": {
      "name": "python"
    }
  },
  "nbformat": 4,
  "nbformat_minor": 0
}